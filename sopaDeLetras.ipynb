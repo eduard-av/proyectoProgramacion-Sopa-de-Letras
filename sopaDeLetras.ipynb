{
  "nbformat": 4,
  "nbformat_minor": 0,
  "metadata": {
    "colab": {
      "provenance": []
    },
    "kernelspec": {
      "name": "python3",
      "display_name": "Python 3"
    },
    "language_info": {
      "name": "python"
    }
  },
  "cells": [
    {
      "cell_type": "code",
      "execution_count": 3,
      "metadata": {
        "colab": {
          "base_uri": "https://localhost:8080/"
        },
        "id": "j52LmHCe1e7_",
        "outputId": "3fbacff0-67f6-453f-c801-5787d0ad1a94"
      },
      "outputs": [
        {
          "output_type": "stream",
          "name": "stdout",
          "text": [
            "¡Bienvenido a la Sopa de Letras!\n",
            "Ingrese el tamaño de la sopa (entre 10 y 30): 20\n",
            "Palabras en la sopa: PYTHON, CODIGO, GRUPO, SOPA, LETRAS, STRING, MATRIZ\n",
            "T P C R G S R Y D P U L P U D E Y R F W\n",
            "P Y F Q Y O Z S A H C B G T D S Y S T B\n",
            "W T D K S J R R C U A S R L B K W U K J\n",
            "X H N P X H R I R Y Q Y K E I P H U N C\n",
            "M O T Q N G T Z Y Q G J Z T E N M B R X\n",
            "H N Z H Q S W C O B Z J R R C F E B G A\n",
            "S U U Q E F A T J S P K E A S G K T L N\n",
            "W N R E Y F I C U O S E O S V U T G T J\n",
            "G K J M N N O Y G P P T H F U U I N M D\n",
            "R X V V A W J Y M A E W D Q P L P D T W\n",
            "U E E Y D L H F D J T W I S H T E G B Z\n",
            "P B Y C X C Y H G M Z J C V A T F K G N\n",
            "O T O Q Z U I P S H M S D J C U P O S Z\n",
            "P Q H J B E U A O F M R C M B K O H C R\n",
            "T S Q Y L S T R I N G M B A K J H Z I B\n",
            "K T E Q P Y F J H Q O M Y T F F E V X K\n",
            "T Z B C A G D H W H I F Y R A T Z N O K\n",
            "N F B A V O O D C R K D C I D X M S K B\n",
            "D F Z W E C M D O A V N S Z T V S R W O\n",
            "W W W Y U V I Y X C O D I G O V Z T F X\n"
          ]
        }
      ],
      "source": [
        "import random\n",
        "import string\n",
        "\n",
        "def crear_cuadricula(tamaño):  # Crea una cuadrícula vacía representada como una lista de strings.\n",
        "    return [\".\" * tamaño for _ in range(tamaño)]   # Toma los espacios vacios y los multplica por el número que define el usuario del tamaño de la cuadricula.\n",
        "\n",
        "def colocar_palabras(cuadricula, palabras):\n",
        "    # Coloca palabras horizontalmente o verticalmente en la cuadrícula.\n",
        "\n",
        "    # Definimos el tamaño de la cuadrícula según la longitud de la lista de palabras.\n",
        "    tamaño = len(cuadricula)  # Esto asume que la cuadrícula es una lista de listas (2D), y su tamaño es cuadrado.\n",
        "\n",
        "    for palabra in palabras:  # Iteramos sobre cada palabra que queremos colocar en la cuadrícula.\n",
        "        colocada = False  # Inicializamos la variable, y desde un inicio la caracterizamos como falsa, mientras se cumplan ciertas condiciones al final cambiara a \"True\", para saber si la palabra ya se ha colocado correctamente.\n",
        "\n",
        "        while not colocada:  # Mientras la palabra no se haya colocado, seguimos intentando (hacemos uso de bucles)\n",
        "\n",
        "            # Elegimos una dirección aleatoria: \"H\" para horizontal, \"V\" para vertical. Aquí es donde se hace uso del import random\n",
        "            direccion = random.choice([\"H\", \"V\"])\n",
        "\n",
        "            if direccion == \"H\":  # Si la dirección elegida es horizontal:\n",
        "                # Seleccionamos una fila aleatoria dentro de la cuadrícula.\n",
        "                fila = random.randint(0, tamaño - 1)\n",
        "                # Seleccionamos una columna aleatoria en la fila, asegurándonos de que haya espacio suficiente para la palabra.\n",
        "                columna = random.randint(0, tamaño - len(palabra))\n",
        "\n",
        "                # Comprobamos si todos los lugares donde queremos colocar la palabra están vacíos (representados por \".\").\n",
        "                if all(cuadricula[fila][columna + i] == \".\" for i in range(len(palabra))):         # Si están vacíos, colocamos la palabra en la fila y columna seleccionadas.\n",
        "                    for i, letra in enumerate(palabra):                                               # Actualizamos la cuadrícula reemplazando los puntos con las letras de la palabra.\n",
        "                        cuadricula[fila] = cuadricula[fila][:columna + i] + letra + cuadricula[fila][columna + i + 1:]\n",
        "                    colocada = True                                                                    # Marcamos la palabra como colocada.\n",
        "\n",
        "            elif direccion == \"V\":  # Si la dirección elegida es vertical:\n",
        "                # Seleccionamos una fila aleatoria donde cabe la palabra verticalmente.\n",
        "                fila = random.randint(0, tamaño - len(palabra))\n",
        "                # Seleccionamos una columna aleatoria en la cuadrícula.\n",
        "                columna = random.randint(0, tamaño - 1)\n",
        "\n",
        "                # Comprobamos si todos los lugares donde queremos colocar la palabra están vacíos.\n",
        "                if all(cuadricula[fila + i][columna] == \".\" for i in range(len(palabra))):\n",
        "                    # Si están vacíos, colocamos la palabra en la columna seleccionada.\n",
        "                    for i, letra in enumerate(palabra):\n",
        "                        # Actualizamos cada fila de la columna correspondiente.\n",
        "                        cuadricula[fila + i] = cuadricula[fila + i][:columna] + letra + cuadricula[fila + i][columna + 1:]\n",
        "                    colocada = True  # Marcamos la palabra como colocada.\n",
        "\n",
        "def rellenar_espacios(cuadricula):\n",
        "    # Rellena los espacios vacíos con letras aleatorias.\n",
        "\n",
        "    # Recorre cada fila de la cuadrícula (lista de listas).\n",
        "    for fila in range(len(cuadricula)):  # Iteramos a través de cada fila en la cuadrícula.\n",
        "\n",
        "        # Reemplaza cada punto (.) con una letra aleatoria de A-Z (mayúsculas).\n",
        "        cuadricula[fila] = \"\".join(\n",
        "            random.choice(string.ascii_uppercase) if char == \".\" else char\n",
        "            for char in cuadricula[fila])\n",
        "\n",
        "def sopa_de_letras():\n",
        "    print(\"¡Bienvenido a la Sopa de Letras!\")  # Se imprime este mensaje que saluda al usuario.\n",
        "    tamaño = int(input(\"Ingrese el tamaño de la sopa (entre 10 y 30): \"))\n",
        "    while tamaño < 10 or tamaño > 30:  # Se limita el tamaño de cuadricula entre 10 y 30.\n",
        "        tamaño = int(input(\"Por favor, ingrese un tamaño válido (entre 10 y 30): \"))  # De ser ingresado un número mayor a 30 o menor a 10, salta el siguiente mensaje.\n",
        "\n",
        "    palabras = [\"PYTHON\", \"CODIGO\", \"GRUPO\", \"SOPA\", \"LETRAS\", \"STRING\", \"MATRIZ\"]       # Se crea una lista con las palbras que el usuario tendra que encontrar. Se pone en mayusculas ya que \"string\" importa las letras en mayusculas.\n",
        "    print(\"Palabras en la sopa:\", \", \".join(palabras))        # Imprime la sopa de letras con las palabras y llenado aleatoriamente.\n",
        "\n",
        "    cuadricula = crear_cuadricula(tamaño)\n",
        "    colocar_palabras(cuadricula, palabras)\n",
        "    rellenar_espacios(cuadricula)                            # Se llaman a las funciones y sus argumentos para que el programa funcione correctamente.\n",
        "    imprimir_cuadricula(cuadricula)\n",
        "\n",
        "sopa_de_letras()\n"
      ]
    }
  ]
}